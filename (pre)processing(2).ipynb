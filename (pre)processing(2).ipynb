{
 "cells": [
  {
   "cell_type": "code",
   "execution_count": null,
   "metadata": {},
   "outputs": [],
   "source": [
    "from transformers import AutoModelForSequenceClassification, AutoTokenizer, pipeline\n",
    "import torch\n",
    "import numpy as np\n",
    "import pandas as pd\n",
    "import re"
   ]
  },
  {
   "cell_type": "code",
   "execution_count": null,
   "metadata": {},
   "outputs": [],
   "source": [
    "#reading the crawled tweets \n",
    "\n",
    "df =  pd.read_csv('August21.csv',index=False)"
   ]
  },
  {
   "cell_type": "code",
   "execution_count": null,
   "metadata": {},
   "outputs": [],
   "source": [
    "#simple text clening of tweets \n",
    "\n",
    "def CleanTxt(text):\n",
    "    text =re.sub(r'@[A-Za-z0-9_]+', '', text)\n",
    "    text =re.sub(r'#[A-Za-z0-9]+', '', text)\n",
    "    text =re.sub(r\"http\\S+\", \"\", text)\n",
    "    return text\n",
    "\n",
    "df['CleanText'] = df['text'].apply(CleanTxt)"
   ]
  },
  {
   "cell_type": "code",
   "execution_count": null,
   "metadata": {},
   "outputs": [],
   "source": [
    "#defining tokenizer and model used for polarity classification\n",
    "\n",
    "tokenizer = AutoTokenizer.from_pretrained('finiteautomata/beto-sentiment-analysis')\n",
    "model = AutoModelForSequenceClassification.from_pretrained('finiteautomata/beto-sentiment-analysis')"
   ]
  },
  {
   "cell_type": "code",
   "execution_count": null,
   "metadata": {},
   "outputs": [],
   "source": [
    "#defining final transformers classifier using own gpu\n",
    "\n",
    "classifier = pipeline(\"sentiment-analysis\", model=model, tokenizer=tokenizer, device=0) "
   ]
  },
  {
   "cell_type": "code",
   "execution_count": null,
   "metadata": {},
   "outputs": [],
   "source": [
    "#applying model to cleaned text\n",
    "\n",
    "df['sentiment2'] = df['CleanText'].apply(lambda x: classifier(x[:512]))"
   ]
  },
  {
   "cell_type": "code",
   "execution_count": null,
   "metadata": {
    "scrolled": true
   },
   "outputs": [],
   "source": [
    "#creating shorted dates for future steps \n",
    "\n",
    "df['new_dates'] = [dates[:10] for dates in df['created_at']]"
   ]
  },
  {
   "cell_type": "code",
   "execution_count": null,
   "metadata": {},
   "outputs": [],
   "source": [
    "#saving the result into a csv file\n",
    "\n",
    "df.to_csv('AugustScore21.csv', index = False)"
   ]
  }
 ],
 "metadata": {
  "kernelspec": {
   "display_name": "Python 3",
   "language": "python",
   "name": "python3"
  },
  "language_info": {
   "codemirror_mode": {
    "name": "ipython",
    "version": 3
   },
   "file_extension": ".py",
   "mimetype": "text/x-python",
   "name": "python",
   "nbconvert_exporter": "python",
   "pygments_lexer": "ipython3",
   "version": "3.8.5"
  }
 },
 "nbformat": 4,
 "nbformat_minor": 4
}

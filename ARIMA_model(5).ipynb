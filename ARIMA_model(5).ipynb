{
 "cells": [
  {
   "cell_type": "code",
   "execution_count": null,
   "metadata": {},
   "outputs": [],
   "source": [
    "import numpy as np\n",
    "import pandas as pd\n",
    "import matplotlib.pyplot as plt\n",
    "import matplotlib.dates as mdates\n",
    "from matplotlib.pyplot import figure\n",
    "import matplotlib\n",
    "from statsmodels.tsa.stattools import adfuller\n",
    "from statsmodels.graphics.tsaplots import plot_acf, plot_pacf\n",
    "from statsmodels.tsa.statespace.sarimax import SARIMAX\n",
    "from statsmodels.tsa.arima.model import ARIMA\n",
    "from statsmodels.tsa.seasonal import seasonal_decompose\n",
    "import pmdarima as pm\n",
    "import warnings\n",
    "import statsmodels\n",
    "import datetime as dt\n",
    "from sklearn.metrics import mean_squared_error\n",
    "warnings.filterwarnings('ignore')"
   ]
  },
  {
   "cell_type": "code",
   "execution_count": null,
   "metadata": {},
   "outputs": [],
   "source": [
    "#creating dataframes to test each varaible independently \n",
    "\n",
    "df = pd.read_csv('AllScorePerDay',index_col='dates')\n",
    "df2 = pd.read_csv('AllPropPword',index_col='dates')\n",
    "df3 = pd.read_csv('NegPerDay', index_col='dates')\n",
    "df4 = pd.read_csv('NeuPerDay', index_col='dates')\n",
    "df5 = pd.read_csv('PosPerDay', index_col='dates')\n",
    "df6 = pd.read_csv('PropPosNeg', index_col='dates')\n",
    "dfP = pd.read_csv('AllPropPword', index_col='dates')"
   ]
  },
  {
   "cell_type": "code",
   "execution_count": null,
   "metadata": {},
   "outputs": [],
   "source": [
    "#creating dummy variables, both datasets had 'holiday ouliers' in the same dates, so no need for manual codification\n",
    "\n",
    "df['holiday'] = 0\n",
    "df['covid'] = 0\n",
    "\n",
    "for index, score in enumerate(df['score']):\n",
    "    if score >0.04:\n",
    "        df['holiday'][index] = 1\n",
    "    if score < -0.18:\n",
    "        df['covid'][index] = 1\n"
   ]
  },
  {
   "cell_type": "code",
   "execution_count": null,
   "metadata": {},
   "outputs": [],
   "source": [
    "#testing differentiation\n",
    "\n",
    "df['diff']= df['0'].diff()\n",
    "df = df.dropna()\n",
    "df['diff'].plot()"
   ]
  },
  {
   "cell_type": "code",
   "execution_count": null,
   "metadata": {
    "scrolled": false
   },
   "outputs": [],
   "source": [
    "#checking dickey-fuller test for stationarity\n",
    "\n",
    "ad_test = adfuller(df['diff'])"
   ]
  },
  {
   "cell_type": "code",
   "execution_count": null,
   "metadata": {},
   "outputs": [],
   "source": [
    "#plotting autocorrelations and partial autocorrelations in stationary data\n",
    "\n",
    "plot_acf(df['diff'],zero = False)\n",
    "plot_pacf(df['diff'], zero = False)"
   ]
  },
  {
   "cell_type": "code",
   "execution_count": null,
   "metadata": {},
   "outputs": [],
   "source": [
    "#testing best parameters for our ARIMA model\n",
    "\n",
    "model_res = []\n",
    "\n",
    "for p in range(7):\n",
    "    for q in range(7):\n",
    "        model = SARIMAX(train, order = (p,1,q))\n",
    "        results = model.fit()\n",
    "        model_res.append((p,q,results.aic, results.bic))\n",
    "\n",
    "order_df = pd.DataFrame(model_res, \n",
    "                        columns=['p','q','AIC','BIC'])\n",
    "\n",
    "print(order_df.sort_values('AIC'))\n",
    "print(order_df.sort_values('BIC'))\n"
   ]
  },
  {
   "cell_type": "code",
   "execution_count": null,
   "metadata": {
    "scrolled": true
   },
   "outputs": [],
   "source": [
    "#creating a Dataframe to introduce exogenous variables in the ARIMA model, subituting lost values with mean\n",
    "\n",
    "dfwords = pd.DataFrame()\n",
    "dfwords['neg'] = df2['0']\n",
    "dfwords['neu'] = df3['0']\n",
    "dfwords['pos'] = df4['0']\n",
    "dfwords['prop'] = df5['0']\n",
    "dfwords['neg'] = dfwords['neg'].shift(1)\n",
    "dfwords['neg'][0] = np.mean(dfwords['neg'])\n",
    "dfwords['neu'] = dfwords['neu'].shift(1)\n",
    "dfwords['neu'][0] = np.mean(dfwords['neu'])\n",
    "dfwords['pos'] = dfwords['pos'].shift(1)\n",
    "dfwords['pos'][0] = np.mean(dfwords['pos'])\n",
    "dfwords['prop'] = dfwords['prop'].shift(1)\n",
    "dfwords['prop'][0] = np.mean(dfwords['prop'])\n",
    "\n",
    "df3 = pd.DataFrame()\n",
    "df3['covid'] = df['covid']\n",
    "df3['holiday'] = df['holiday']\n",
    "dfP = dfP.shift(1)\n",
    "dfP = dfP.fillna(np.mean(dfP))\n"
   ]
  },
  {
   "cell_type": "code",
   "execution_count": null,
   "metadata": {
    "scrolled": false
   },
   "outputs": [],
   "source": [
    "#main ARIMA model, residuals diagnostics and model decompositions \n",
    "\n",
    "model = ARIMA(df['score'], order=(0,1,3),seasonal_order=(1,0,0,7))\n",
    "results = model.fit()\n",
    "\n",
    "print(results.summary())\n",
    "results.plot_diagnostics()\n",
    "decomp = seasonal_decompose(train,period=7)\n",
    "decomp.plot()\n",
    "plt.show()"
   ]
  },
  {
   "cell_type": "code",
   "execution_count": null,
   "metadata": {},
   "outputs": [],
   "source": [
    "#calculating by hand ARIMA predicitons as a sanity check\n",
    "\n",
    "a = (results.resid[-1]* -0.4126)+(results.resid[-2] *-0.2524)+(results.resid[-3]*-0.1981)+(df['score'][360]*0.2706)\n",
    "a + df['score'][365]"
   ]
  },
  {
   "cell_type": "code",
   "execution_count": null,
   "metadata": {},
   "outputs": [],
   "source": [
    "#testing best parameters for our ARIMA model manually and with the auto_arima module \n",
    "\n",
    "model_res = []\n",
    "\n",
    "for p in range(7):\n",
    "    for q in range(7):\n",
    "        model = SARIMAX(train, order = (p,1,q))\n",
    "        results = model.fit()\n",
    "        model_res.append((p,q,results.aic, results.bic))\n",
    "\n",
    "order_df = pd.DataFrame(model_res, \n",
    "                        columns=['p','q','AIC','BIC'])\n",
    "\n",
    "print(order_df.sort_values('AIC'))\n",
    "print(order_df.sort_values('BIC'))\n",
    "\n",
    "model1 = pm.auto_arima(df['0'], #time series\n",
    "                      seasonal=True, # is the time series seasonal\n",
    "                      max_p=6, # max value of p to test \n",
    "                      max_q=6, # max value of p to test\n",
    "                      max_P=6, # max value of P to test \n",
    "                      max_Q=6, # max value of Q to test,\n",
    "                      m=7,\n",
    "                      information_criterion='aic', # used to select best mode\n",
    "                      trace=True, # prints the information_criterion for each model it fits\n",
    "                      error_action='ignore', # ignore orders that don't work\n",
    "                      stepwise=True, # apply an intelligent order search\n",
    "                      suppress_warnings=True) \n",
    "\n",
    "# Print model summary\n",
    "print(model1.summary())"
   ]
  },
  {
   "cell_type": "code",
   "execution_count": null,
   "metadata": {
    "scrolled": true
   },
   "outputs": [],
   "source": [
    "#plotting\n",
    "\n",
    "figure(figsize=(20,12), dpi=320)\n",
    "plt.plot(arima_mean.index, arima_mean, label='forecasted',color='red')\n",
    "plt.plot(arima_mean.index,df['score'])\n",
    "plt.legend()"
   ]
  },
  {
   "cell_type": "code",
   "execution_count": null,
   "metadata": {
    "scrolled": true
   },
   "outputs": [],
   "source": [
    "#Cross-Validations testing\n",
    "\n",
    "starts = [0,91,182,273]\n",
    "rmse = []\n",
    "\n",
    "for s in starts:\n",
    "    pred = results.get_prediction(start=s,end=s+91,dynamic=False)\n",
    "    pred_mean = pred.predicted_mean\n",
    "    true_values = df['0'].iloc[s:s+92]\n",
    "    pred_mean.plot()\n",
    "    rmse.append(np.sqrt(mean_squared_error(true_values, pred_mean)))\n",
    "\n",
    "np.mean(rmse)"
   ]
  },
  {
   "cell_type": "code",
   "execution_count": null,
   "metadata": {},
   "outputs": [],
   "source": [
    "#Main mehtod to dinamaically predict one-step-ahead scores 'cheats' (uses coefficients generated at the end of the model), \n",
    "#this is the method used instead\n",
    "\n",
    "pred = []\n",
    "for s in range(366,731):\n",
    "    exog = df3\n",
    "    model = ARIMA(df['score'][:s], order=(0,1,3),seasonal_order=(1,0,0,7),exog=exog[:s])\n",
    "    results = model.fit()\n",
    "    exog = df3.iloc[s]\n",
    "    pre = results.predict(start=s,exog=exog)\n",
    "    pred.append(pre)"
   ]
  },
  {
   "cell_type": "code",
   "execution_count": null,
   "metadata": {},
   "outputs": [],
   "source": [
    "#RMSE calculation\n",
    "\n",
    "np.sqrt(mean_squared_error(df['score'][366:], pred))"
   ]
  }
 ],
 "metadata": {
  "kernelspec": {
   "display_name": "Python 3",
   "language": "python",
   "name": "python3"
  },
  "language_info": {
   "codemirror_mode": {
    "name": "ipython",
    "version": 3
   },
   "file_extension": ".py",
   "mimetype": "text/x-python",
   "name": "python",
   "nbconvert_exporter": "python",
   "pygments_lexer": "ipython3",
   "version": "3.8.5"
  }
 },
 "nbformat": 4,
 "nbformat_minor": 4
}

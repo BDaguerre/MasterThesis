{
 "cells": [
  {
   "cell_type": "code",
   "execution_count": null,
   "metadata": {},
   "outputs": [],
   "source": [
    "import pandas as pd\n",
    "import os"
   ]
  },
  {
   "cell_type": "code",
   "execution_count": null,
   "metadata": {},
   "outputs": [],
   "source": [
    "#looping trough a file containing the data to be merge and using their file names to do so\n",
    "\n",
    "directory = os.fsencode(r'E:\\UNI\\Thesis\\DATA\\Batches')\n",
    "df2 = pd.DataFrame()\n",
    "\n",
    "for file in os.listdir(directory):\n",
    "    file = file.decode('utf-8')\n",
    "    df = pd.read_csv (str(file))\n",
    "    df2 = pd.concat([df2, df],ignore_index=True)\n"
   ]
  },
  {
   "cell_type": "code",
   "execution_count": null,
   "metadata": {
    "scrolled": true
   },
   "outputs": [],
   "source": [
    "#sorting the data in case it is not chronologically ordered, creating a score colummn\n",
    "\n",
    "df2.sort_values(by='created_at').to_csv('AllPScore21',index=False)\n",
    "df2['score'] = 0"
   ]
  },
  {
   "cell_type": "code",
   "execution_count": null,
   "metadata": {
    "scrolled": true
   },
   "outputs": [],
   "source": [
    "#produccing a score out of the labels creating in the processing step\n",
    "\n",
    "for index, tag in enumerate(df2['sentiment2']):\n",
    "    label =  str(tag[12:15])\n",
    "    if label == 'NEG':\n",
    "        df2['score'][index] = -1\n",
    "    if label == 'NEU':\n",
    "        df2['score'][index] = 0\n",
    "    if label == 'POS':\n",
    "        df2['score'][index] = 1"
   ]
  },
  {
   "cell_type": "code",
   "execution_count": null,
   "metadata": {},
   "outputs": [],
   "source": [
    "#saving the results\n",
    "\n",
    "df2.to_csv('score', index='new_dates')"
   ]
  }
 ],
 "metadata": {
  "kernelspec": {
   "display_name": "Python 3",
   "language": "python",
   "name": "python3"
  },
  "language_info": {
   "codemirror_mode": {
    "name": "ipython",
    "version": 3
   },
   "file_extension": ".py",
   "mimetype": "text/x-python",
   "name": "python",
   "nbconvert_exporter": "python",
   "pygments_lexer": "ipython3",
   "version": "3.8.5"
  }
 },
 "nbformat": 4,
 "nbformat_minor": 4
}
